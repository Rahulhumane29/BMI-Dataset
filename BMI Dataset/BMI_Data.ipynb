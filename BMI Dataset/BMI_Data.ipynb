{
 "cells": [
  {
   "cell_type": "code",
   "execution_count": 1,
   "id": "08cca438",
   "metadata": {},
   "outputs": [],
   "source": [
    "import pandas as pd\n",
    "import matplotlib.pyplot as plt\n",
    "import numpy as np\n",
    "import seaborn as sns"
   ]
  },
  {
   "cell_type": "code",
   "execution_count": 2,
   "id": "8649e37d",
   "metadata": {},
   "outputs": [],
   "source": [
    "bmi_data = pd.read_csv(\"C:\\\\Users\\\\rahul\\\\Desktop\\\\py+dy12\\\\project\\\\project2\\\\bmi_data.csv\")"
   ]
  },
  {
   "cell_type": "code",
   "execution_count": 3,
   "id": "91fb98f0",
   "metadata": {},
   "outputs": [
    {
     "data": {
      "text/html": [
       "<div>\n",
       "<style scoped>\n",
       "    .dataframe tbody tr th:only-of-type {\n",
       "        vertical-align: middle;\n",
       "    }\n",
       "\n",
       "    .dataframe tbody tr th {\n",
       "        vertical-align: top;\n",
       "    }\n",
       "\n",
       "    .dataframe thead th {\n",
       "        text-align: right;\n",
       "    }\n",
       "</style>\n",
       "<table border=\"1\" class=\"dataframe\">\n",
       "  <thead>\n",
       "    <tr style=\"text-align: right;\">\n",
       "      <th></th>\n",
       "      <th>Gender</th>\n",
       "      <th>Height</th>\n",
       "      <th>Weight</th>\n",
       "      <th>Index</th>\n",
       "    </tr>\n",
       "  </thead>\n",
       "  <tbody>\n",
       "    <tr>\n",
       "      <th>0</th>\n",
       "      <td>Male</td>\n",
       "      <td>174</td>\n",
       "      <td>96</td>\n",
       "      <td>4</td>\n",
       "    </tr>\n",
       "    <tr>\n",
       "      <th>1</th>\n",
       "      <td>Male</td>\n",
       "      <td>189</td>\n",
       "      <td>87</td>\n",
       "      <td>2</td>\n",
       "    </tr>\n",
       "    <tr>\n",
       "      <th>2</th>\n",
       "      <td>Female</td>\n",
       "      <td>185</td>\n",
       "      <td>110</td>\n",
       "      <td>4</td>\n",
       "    </tr>\n",
       "    <tr>\n",
       "      <th>3</th>\n",
       "      <td>Female</td>\n",
       "      <td>195</td>\n",
       "      <td>104</td>\n",
       "      <td>3</td>\n",
       "    </tr>\n",
       "    <tr>\n",
       "      <th>4</th>\n",
       "      <td>Male</td>\n",
       "      <td>149</td>\n",
       "      <td>61</td>\n",
       "      <td>3</td>\n",
       "    </tr>\n",
       "    <tr>\n",
       "      <th>...</th>\n",
       "      <td>...</td>\n",
       "      <td>...</td>\n",
       "      <td>...</td>\n",
       "      <td>...</td>\n",
       "    </tr>\n",
       "    <tr>\n",
       "      <th>495</th>\n",
       "      <td>Female</td>\n",
       "      <td>150</td>\n",
       "      <td>153</td>\n",
       "      <td>5</td>\n",
       "    </tr>\n",
       "    <tr>\n",
       "      <th>496</th>\n",
       "      <td>Female</td>\n",
       "      <td>184</td>\n",
       "      <td>121</td>\n",
       "      <td>4</td>\n",
       "    </tr>\n",
       "    <tr>\n",
       "      <th>497</th>\n",
       "      <td>Female</td>\n",
       "      <td>141</td>\n",
       "      <td>136</td>\n",
       "      <td>5</td>\n",
       "    </tr>\n",
       "    <tr>\n",
       "      <th>498</th>\n",
       "      <td>Male</td>\n",
       "      <td>150</td>\n",
       "      <td>95</td>\n",
       "      <td>5</td>\n",
       "    </tr>\n",
       "    <tr>\n",
       "      <th>499</th>\n",
       "      <td>Male</td>\n",
       "      <td>173</td>\n",
       "      <td>131</td>\n",
       "      <td>5</td>\n",
       "    </tr>\n",
       "  </tbody>\n",
       "</table>\n",
       "<p>500 rows × 4 columns</p>\n",
       "</div>"
      ],
      "text/plain": [
       "     Gender  Height  Weight  Index\n",
       "0      Male     174      96      4\n",
       "1      Male     189      87      2\n",
       "2    Female     185     110      4\n",
       "3    Female     195     104      3\n",
       "4      Male     149      61      3\n",
       "..      ...     ...     ...    ...\n",
       "495  Female     150     153      5\n",
       "496  Female     184     121      4\n",
       "497  Female     141     136      5\n",
       "498    Male     150      95      5\n",
       "499    Male     173     131      5\n",
       "\n",
       "[500 rows x 4 columns]"
      ]
     },
     "execution_count": 3,
     "metadata": {},
     "output_type": "execute_result"
    }
   ],
   "source": [
    "bmi_data"
   ]
  },
  {
   "cell_type": "code",
   "execution_count": 4,
   "id": "cb5928cb",
   "metadata": {},
   "outputs": [
    {
     "data": {
      "text/plain": [
       "(500, 4)"
      ]
     },
     "execution_count": 4,
     "metadata": {},
     "output_type": "execute_result"
    }
   ],
   "source": [
    "bmi_data.shape"
   ]
  },
  {
   "cell_type": "code",
   "execution_count": 5,
   "id": "a2abf709",
   "metadata": {},
   "outputs": [
    {
     "data": {
      "text/html": [
       "<div>\n",
       "<style scoped>\n",
       "    .dataframe tbody tr th:only-of-type {\n",
       "        vertical-align: middle;\n",
       "    }\n",
       "\n",
       "    .dataframe tbody tr th {\n",
       "        vertical-align: top;\n",
       "    }\n",
       "\n",
       "    .dataframe thead th {\n",
       "        text-align: right;\n",
       "    }\n",
       "</style>\n",
       "<table border=\"1\" class=\"dataframe\">\n",
       "  <thead>\n",
       "    <tr style=\"text-align: right;\">\n",
       "      <th></th>\n",
       "      <th>Gender</th>\n",
       "      <th>Height</th>\n",
       "      <th>Weight</th>\n",
       "      <th>Index</th>\n",
       "    </tr>\n",
       "  </thead>\n",
       "  <tbody>\n",
       "    <tr>\n",
       "      <th>0</th>\n",
       "      <td>Male</td>\n",
       "      <td>174</td>\n",
       "      <td>96</td>\n",
       "      <td>4</td>\n",
       "    </tr>\n",
       "    <tr>\n",
       "      <th>1</th>\n",
       "      <td>Male</td>\n",
       "      <td>189</td>\n",
       "      <td>87</td>\n",
       "      <td>2</td>\n",
       "    </tr>\n",
       "    <tr>\n",
       "      <th>2</th>\n",
       "      <td>Female</td>\n",
       "      <td>185</td>\n",
       "      <td>110</td>\n",
       "      <td>4</td>\n",
       "    </tr>\n",
       "    <tr>\n",
       "      <th>3</th>\n",
       "      <td>Female</td>\n",
       "      <td>195</td>\n",
       "      <td>104</td>\n",
       "      <td>3</td>\n",
       "    </tr>\n",
       "    <tr>\n",
       "      <th>4</th>\n",
       "      <td>Male</td>\n",
       "      <td>149</td>\n",
       "      <td>61</td>\n",
       "      <td>3</td>\n",
       "    </tr>\n",
       "  </tbody>\n",
       "</table>\n",
       "</div>"
      ],
      "text/plain": [
       "   Gender  Height  Weight  Index\n",
       "0    Male     174      96      4\n",
       "1    Male     189      87      2\n",
       "2  Female     185     110      4\n",
       "3  Female     195     104      3\n",
       "4    Male     149      61      3"
      ]
     },
     "execution_count": 5,
     "metadata": {},
     "output_type": "execute_result"
    }
   ],
   "source": [
    "bmi_data.head()"
   ]
  },
  {
   "cell_type": "code",
   "execution_count": 6,
   "id": "06756521",
   "metadata": {},
   "outputs": [
    {
     "data": {
      "text/html": [
       "<div>\n",
       "<style scoped>\n",
       "    .dataframe tbody tr th:only-of-type {\n",
       "        vertical-align: middle;\n",
       "    }\n",
       "\n",
       "    .dataframe tbody tr th {\n",
       "        vertical-align: top;\n",
       "    }\n",
       "\n",
       "    .dataframe thead th {\n",
       "        text-align: right;\n",
       "    }\n",
       "</style>\n",
       "<table border=\"1\" class=\"dataframe\">\n",
       "  <thead>\n",
       "    <tr style=\"text-align: right;\">\n",
       "      <th></th>\n",
       "      <th>Gender</th>\n",
       "      <th>Height</th>\n",
       "      <th>Weight</th>\n",
       "      <th>Index</th>\n",
       "    </tr>\n",
       "  </thead>\n",
       "  <tbody>\n",
       "    <tr>\n",
       "      <th>495</th>\n",
       "      <td>Female</td>\n",
       "      <td>150</td>\n",
       "      <td>153</td>\n",
       "      <td>5</td>\n",
       "    </tr>\n",
       "    <tr>\n",
       "      <th>496</th>\n",
       "      <td>Female</td>\n",
       "      <td>184</td>\n",
       "      <td>121</td>\n",
       "      <td>4</td>\n",
       "    </tr>\n",
       "    <tr>\n",
       "      <th>497</th>\n",
       "      <td>Female</td>\n",
       "      <td>141</td>\n",
       "      <td>136</td>\n",
       "      <td>5</td>\n",
       "    </tr>\n",
       "    <tr>\n",
       "      <th>498</th>\n",
       "      <td>Male</td>\n",
       "      <td>150</td>\n",
       "      <td>95</td>\n",
       "      <td>5</td>\n",
       "    </tr>\n",
       "    <tr>\n",
       "      <th>499</th>\n",
       "      <td>Male</td>\n",
       "      <td>173</td>\n",
       "      <td>131</td>\n",
       "      <td>5</td>\n",
       "    </tr>\n",
       "  </tbody>\n",
       "</table>\n",
       "</div>"
      ],
      "text/plain": [
       "     Gender  Height  Weight  Index\n",
       "495  Female     150     153      5\n",
       "496  Female     184     121      4\n",
       "497  Female     141     136      5\n",
       "498    Male     150      95      5\n",
       "499    Male     173     131      5"
      ]
     },
     "execution_count": 6,
     "metadata": {},
     "output_type": "execute_result"
    }
   ],
   "source": [
    "bmi_data.tail()"
   ]
  },
  {
   "cell_type": "code",
   "execution_count": 7,
   "id": "906fc8ea",
   "metadata": {},
   "outputs": [
    {
     "data": {
      "text/html": [
       "<div>\n",
       "<style scoped>\n",
       "    .dataframe tbody tr th:only-of-type {\n",
       "        vertical-align: middle;\n",
       "    }\n",
       "\n",
       "    .dataframe tbody tr th {\n",
       "        vertical-align: top;\n",
       "    }\n",
       "\n",
       "    .dataframe thead th {\n",
       "        text-align: right;\n",
       "    }\n",
       "</style>\n",
       "<table border=\"1\" class=\"dataframe\">\n",
       "  <thead>\n",
       "    <tr style=\"text-align: right;\">\n",
       "      <th></th>\n",
       "      <th>Height</th>\n",
       "      <th>Weight</th>\n",
       "      <th>Index</th>\n",
       "    </tr>\n",
       "  </thead>\n",
       "  <tbody>\n",
       "    <tr>\n",
       "      <th>count</th>\n",
       "      <td>500.000000</td>\n",
       "      <td>500.000000</td>\n",
       "      <td>500.000000</td>\n",
       "    </tr>\n",
       "    <tr>\n",
       "      <th>mean</th>\n",
       "      <td>169.944000</td>\n",
       "      <td>106.000000</td>\n",
       "      <td>3.748000</td>\n",
       "    </tr>\n",
       "    <tr>\n",
       "      <th>std</th>\n",
       "      <td>16.375261</td>\n",
       "      <td>32.382607</td>\n",
       "      <td>1.355053</td>\n",
       "    </tr>\n",
       "    <tr>\n",
       "      <th>min</th>\n",
       "      <td>140.000000</td>\n",
       "      <td>50.000000</td>\n",
       "      <td>0.000000</td>\n",
       "    </tr>\n",
       "    <tr>\n",
       "      <th>25%</th>\n",
       "      <td>156.000000</td>\n",
       "      <td>80.000000</td>\n",
       "      <td>3.000000</td>\n",
       "    </tr>\n",
       "    <tr>\n",
       "      <th>50%</th>\n",
       "      <td>170.500000</td>\n",
       "      <td>106.000000</td>\n",
       "      <td>4.000000</td>\n",
       "    </tr>\n",
       "    <tr>\n",
       "      <th>75%</th>\n",
       "      <td>184.000000</td>\n",
       "      <td>136.000000</td>\n",
       "      <td>5.000000</td>\n",
       "    </tr>\n",
       "    <tr>\n",
       "      <th>max</th>\n",
       "      <td>199.000000</td>\n",
       "      <td>160.000000</td>\n",
       "      <td>5.000000</td>\n",
       "    </tr>\n",
       "  </tbody>\n",
       "</table>\n",
       "</div>"
      ],
      "text/plain": [
       "           Height      Weight       Index\n",
       "count  500.000000  500.000000  500.000000\n",
       "mean   169.944000  106.000000    3.748000\n",
       "std     16.375261   32.382607    1.355053\n",
       "min    140.000000   50.000000    0.000000\n",
       "25%    156.000000   80.000000    3.000000\n",
       "50%    170.500000  106.000000    4.000000\n",
       "75%    184.000000  136.000000    5.000000\n",
       "max    199.000000  160.000000    5.000000"
      ]
     },
     "execution_count": 7,
     "metadata": {},
     "output_type": "execute_result"
    }
   ],
   "source": [
    "bmi_data.describe()"
   ]
  },
  {
   "cell_type": "markdown",
   "id": "f163aeb8",
   "metadata": {},
   "source": [
    "# Checking NA values"
   ]
  },
  {
   "cell_type": "code",
   "execution_count": 8,
   "id": "f06bb955",
   "metadata": {},
   "outputs": [
    {
     "data": {
      "text/plain": [
       "Gender    0\n",
       "Height    0\n",
       "Weight    0\n",
       "Index     0\n",
       "dtype: int64"
      ]
     },
     "execution_count": 8,
     "metadata": {},
     "output_type": "execute_result"
    }
   ],
   "source": [
    "bmi_data.isna().sum()"
   ]
  },
  {
   "cell_type": "code",
   "execution_count": 9,
   "id": "6d1f01f7",
   "metadata": {},
   "outputs": [
    {
     "name": "stdout",
     "output_type": "stream",
     "text": [
      "<class 'pandas.core.frame.DataFrame'>\n",
      "RangeIndex: 500 entries, 0 to 499\n",
      "Data columns (total 4 columns):\n",
      " #   Column  Non-Null Count  Dtype \n",
      "---  ------  --------------  ----- \n",
      " 0   Gender  500 non-null    object\n",
      " 1   Height  500 non-null    int64 \n",
      " 2   Weight  500 non-null    int64 \n",
      " 3   Index   500 non-null    int64 \n",
      "dtypes: int64(3), object(1)\n",
      "memory usage: 15.8+ KB\n"
     ]
    }
   ],
   "source": [
    "bmi_data.info()"
   ]
  },
  {
   "cell_type": "code",
   "execution_count": 10,
   "id": "13e47c15",
   "metadata": {},
   "outputs": [
    {
     "data": {
      "text/html": [
       "<div>\n",
       "<style scoped>\n",
       "    .dataframe tbody tr th:only-of-type {\n",
       "        vertical-align: middle;\n",
       "    }\n",
       "\n",
       "    .dataframe tbody tr th {\n",
       "        vertical-align: top;\n",
       "    }\n",
       "\n",
       "    .dataframe thead th {\n",
       "        text-align: right;\n",
       "    }\n",
       "</style>\n",
       "<table border=\"1\" class=\"dataframe\">\n",
       "  <thead>\n",
       "    <tr style=\"text-align: right;\">\n",
       "      <th></th>\n",
       "      <th>Height</th>\n",
       "      <th>Weight</th>\n",
       "      <th>Index</th>\n",
       "    </tr>\n",
       "  </thead>\n",
       "  <tbody>\n",
       "    <tr>\n",
       "      <th>Height</th>\n",
       "      <td>1.000000</td>\n",
       "      <td>0.000446</td>\n",
       "      <td>-0.422223</td>\n",
       "    </tr>\n",
       "    <tr>\n",
       "      <th>Weight</th>\n",
       "      <td>0.000446</td>\n",
       "      <td>1.000000</td>\n",
       "      <td>0.804569</td>\n",
       "    </tr>\n",
       "    <tr>\n",
       "      <th>Index</th>\n",
       "      <td>-0.422223</td>\n",
       "      <td>0.804569</td>\n",
       "      <td>1.000000</td>\n",
       "    </tr>\n",
       "  </tbody>\n",
       "</table>\n",
       "</div>"
      ],
      "text/plain": [
       "          Height    Weight     Index\n",
       "Height  1.000000  0.000446 -0.422223\n",
       "Weight  0.000446  1.000000  0.804569\n",
       "Index  -0.422223  0.804569  1.000000"
      ]
     },
     "execution_count": 10,
     "metadata": {},
     "output_type": "execute_result"
    }
   ],
   "source": [
    "bmi_data.corr()"
   ]
  },
  {
   "cell_type": "code",
   "execution_count": 11,
   "id": "3f8e7103",
   "metadata": {},
   "outputs": [
    {
     "data": {
      "text/plain": [
       "5    198\n",
       "4    130\n",
       "2     69\n",
       "3     68\n",
       "1     22\n",
       "0     13\n",
       "Name: Index, dtype: int64"
      ]
     },
     "execution_count": 11,
     "metadata": {},
     "output_type": "execute_result"
    }
   ],
   "source": [
    "bmi_data['Index'].value_counts()"
   ]
  },
  {
   "cell_type": "code",
   "execution_count": 12,
   "id": "beabd397",
   "metadata": {},
   "outputs": [
    {
     "data": {
      "text/plain": [
       "Female    255\n",
       "Male      245\n",
       "Name: Gender, dtype: int64"
      ]
     },
     "execution_count": 12,
     "metadata": {},
     "output_type": "execute_result"
    }
   ],
   "source": [
    "bmi_data['Gender'].value_counts()"
   ]
  },
  {
   "cell_type": "code",
   "execution_count": 13,
   "id": "a9fe1276",
   "metadata": {},
   "outputs": [
    {
     "data": {
      "text/plain": [
       "array(['Male', 'Female'], dtype=object)"
      ]
     },
     "execution_count": 13,
     "metadata": {},
     "output_type": "execute_result"
    }
   ],
   "source": [
    "bmi_data['Gender'].unique()"
   ]
  },
  {
   "cell_type": "code",
   "execution_count": 14,
   "id": "b3797c9a",
   "metadata": {},
   "outputs": [],
   "source": [
    "Height = bmi_data[bmi_data['Height']>180]"
   ]
  },
  {
   "cell_type": "code",
   "execution_count": 15,
   "id": "f7b9083c",
   "metadata": {},
   "outputs": [
    {
     "data": {
      "text/html": [
       "<div>\n",
       "<style scoped>\n",
       "    .dataframe tbody tr th:only-of-type {\n",
       "        vertical-align: middle;\n",
       "    }\n",
       "\n",
       "    .dataframe tbody tr th {\n",
       "        vertical-align: top;\n",
       "    }\n",
       "\n",
       "    .dataframe thead th {\n",
       "        text-align: right;\n",
       "    }\n",
       "</style>\n",
       "<table border=\"1\" class=\"dataframe\">\n",
       "  <thead>\n",
       "    <tr style=\"text-align: right;\">\n",
       "      <th></th>\n",
       "      <th>Gender</th>\n",
       "      <th>Height</th>\n",
       "      <th>Weight</th>\n",
       "      <th>Index</th>\n",
       "    </tr>\n",
       "  </thead>\n",
       "  <tbody>\n",
       "    <tr>\n",
       "      <th>1</th>\n",
       "      <td>Male</td>\n",
       "      <td>189</td>\n",
       "      <td>87</td>\n",
       "      <td>2</td>\n",
       "    </tr>\n",
       "    <tr>\n",
       "      <th>2</th>\n",
       "      <td>Female</td>\n",
       "      <td>185</td>\n",
       "      <td>110</td>\n",
       "      <td>4</td>\n",
       "    </tr>\n",
       "    <tr>\n",
       "      <th>3</th>\n",
       "      <td>Female</td>\n",
       "      <td>195</td>\n",
       "      <td>104</td>\n",
       "      <td>3</td>\n",
       "    </tr>\n",
       "    <tr>\n",
       "      <th>5</th>\n",
       "      <td>Male</td>\n",
       "      <td>189</td>\n",
       "      <td>104</td>\n",
       "      <td>3</td>\n",
       "    </tr>\n",
       "    <tr>\n",
       "      <th>10</th>\n",
       "      <td>Male</td>\n",
       "      <td>195</td>\n",
       "      <td>81</td>\n",
       "      <td>2</td>\n",
       "    </tr>\n",
       "    <tr>\n",
       "      <th>...</th>\n",
       "      <td>...</td>\n",
       "      <td>...</td>\n",
       "      <td>...</td>\n",
       "      <td>...</td>\n",
       "    </tr>\n",
       "    <tr>\n",
       "      <th>484</th>\n",
       "      <td>Female</td>\n",
       "      <td>188</td>\n",
       "      <td>115</td>\n",
       "      <td>4</td>\n",
       "    </tr>\n",
       "    <tr>\n",
       "      <th>487</th>\n",
       "      <td>Male</td>\n",
       "      <td>187</td>\n",
       "      <td>80</td>\n",
       "      <td>2</td>\n",
       "    </tr>\n",
       "    <tr>\n",
       "      <th>488</th>\n",
       "      <td>Male</td>\n",
       "      <td>198</td>\n",
       "      <td>136</td>\n",
       "      <td>4</td>\n",
       "    </tr>\n",
       "    <tr>\n",
       "      <th>492</th>\n",
       "      <td>Female</td>\n",
       "      <td>198</td>\n",
       "      <td>50</td>\n",
       "      <td>0</td>\n",
       "    </tr>\n",
       "    <tr>\n",
       "      <th>496</th>\n",
       "      <td>Female</td>\n",
       "      <td>184</td>\n",
       "      <td>121</td>\n",
       "      <td>4</td>\n",
       "    </tr>\n",
       "  </tbody>\n",
       "</table>\n",
       "<p>163 rows × 4 columns</p>\n",
       "</div>"
      ],
      "text/plain": [
       "     Gender  Height  Weight  Index\n",
       "1      Male     189      87      2\n",
       "2    Female     185     110      4\n",
       "3    Female     195     104      3\n",
       "5      Male     189     104      3\n",
       "10     Male     195      81      2\n",
       "..      ...     ...     ...    ...\n",
       "484  Female     188     115      4\n",
       "487    Male     187      80      2\n",
       "488    Male     198     136      4\n",
       "492  Female     198      50      0\n",
       "496  Female     184     121      4\n",
       "\n",
       "[163 rows x 4 columns]"
      ]
     },
     "execution_count": 15,
     "metadata": {},
     "output_type": "execute_result"
    }
   ],
   "source": [
    "Height"
   ]
  },
  {
   "cell_type": "code",
   "execution_count": 16,
   "id": "ff0338ab",
   "metadata": {},
   "outputs": [],
   "source": [
    "Index = bmi_data[bmi_data['Index']==2]"
   ]
  },
  {
   "cell_type": "code",
   "execution_count": 17,
   "id": "06e255df",
   "metadata": {},
   "outputs": [
    {
     "data": {
      "text/html": [
       "<div>\n",
       "<style scoped>\n",
       "    .dataframe tbody tr th:only-of-type {\n",
       "        vertical-align: middle;\n",
       "    }\n",
       "\n",
       "    .dataframe tbody tr th {\n",
       "        vertical-align: top;\n",
       "    }\n",
       "\n",
       "    .dataframe thead th {\n",
       "        text-align: right;\n",
       "    }\n",
       "</style>\n",
       "<table border=\"1\" class=\"dataframe\">\n",
       "  <thead>\n",
       "    <tr style=\"text-align: right;\">\n",
       "      <th></th>\n",
       "      <th>Gender</th>\n",
       "      <th>Height</th>\n",
       "      <th>Weight</th>\n",
       "      <th>Index</th>\n",
       "    </tr>\n",
       "  </thead>\n",
       "  <tbody>\n",
       "    <tr>\n",
       "      <th>1</th>\n",
       "      <td>Male</td>\n",
       "      <td>189</td>\n",
       "      <td>87</td>\n",
       "      <td>2</td>\n",
       "    </tr>\n",
       "    <tr>\n",
       "      <th>10</th>\n",
       "      <td>Male</td>\n",
       "      <td>195</td>\n",
       "      <td>81</td>\n",
       "      <td>2</td>\n",
       "    </tr>\n",
       "    <tr>\n",
       "      <th>13</th>\n",
       "      <td>Male</td>\n",
       "      <td>155</td>\n",
       "      <td>51</td>\n",
       "      <td>2</td>\n",
       "    </tr>\n",
       "    <tr>\n",
       "      <th>14</th>\n",
       "      <td>Male</td>\n",
       "      <td>191</td>\n",
       "      <td>79</td>\n",
       "      <td>2</td>\n",
       "    </tr>\n",
       "    <tr>\n",
       "      <th>24</th>\n",
       "      <td>Female</td>\n",
       "      <td>172</td>\n",
       "      <td>67</td>\n",
       "      <td>2</td>\n",
       "    </tr>\n",
       "    <tr>\n",
       "      <th>...</th>\n",
       "      <td>...</td>\n",
       "      <td>...</td>\n",
       "      <td>...</td>\n",
       "      <td>...</td>\n",
       "    </tr>\n",
       "    <tr>\n",
       "      <th>472</th>\n",
       "      <td>Female</td>\n",
       "      <td>178</td>\n",
       "      <td>65</td>\n",
       "      <td>2</td>\n",
       "    </tr>\n",
       "    <tr>\n",
       "      <th>477</th>\n",
       "      <td>Male</td>\n",
       "      <td>167</td>\n",
       "      <td>64</td>\n",
       "      <td>2</td>\n",
       "    </tr>\n",
       "    <tr>\n",
       "      <th>478</th>\n",
       "      <td>Female</td>\n",
       "      <td>151</td>\n",
       "      <td>55</td>\n",
       "      <td>2</td>\n",
       "    </tr>\n",
       "    <tr>\n",
       "      <th>487</th>\n",
       "      <td>Male</td>\n",
       "      <td>187</td>\n",
       "      <td>80</td>\n",
       "      <td>2</td>\n",
       "    </tr>\n",
       "    <tr>\n",
       "      <th>490</th>\n",
       "      <td>Female</td>\n",
       "      <td>164</td>\n",
       "      <td>59</td>\n",
       "      <td>2</td>\n",
       "    </tr>\n",
       "  </tbody>\n",
       "</table>\n",
       "<p>69 rows × 4 columns</p>\n",
       "</div>"
      ],
      "text/plain": [
       "     Gender  Height  Weight  Index\n",
       "1      Male     189      87      2\n",
       "10     Male     195      81      2\n",
       "13     Male     155      51      2\n",
       "14     Male     191      79      2\n",
       "24   Female     172      67      2\n",
       "..      ...     ...     ...    ...\n",
       "472  Female     178      65      2\n",
       "477    Male     167      64      2\n",
       "478  Female     151      55      2\n",
       "487    Male     187      80      2\n",
       "490  Female     164      59      2\n",
       "\n",
       "[69 rows x 4 columns]"
      ]
     },
     "execution_count": 17,
     "metadata": {},
     "output_type": "execute_result"
    }
   ],
   "source": [
    "Index"
   ]
  },
  {
   "cell_type": "code",
   "execution_count": 18,
   "id": "61806f56",
   "metadata": {},
   "outputs": [
    {
     "data": {
      "text/plain": [
       "['Gender']"
      ]
     },
     "execution_count": 18,
     "metadata": {},
     "output_type": "execute_result"
    }
   ],
   "source": [
    "colname=[]\n",
    "for x in bmi_data.columns:\n",
    "    if bmi_data[x].dtype==\"object\":\n",
    "        colname.append(x)\n",
    "colname"
   ]
  },
  {
   "cell_type": "code",
   "execution_count": 19,
   "id": "19846704",
   "metadata": {},
   "outputs": [],
   "source": [
    "from sklearn.preprocessing import LabelEncoder\n",
    "le=LabelEncoder()\n",
    "\n",
    "for x in colname:\n",
    "    bmi_data[x]=le.fit_transform(bmi_data[x])"
   ]
  },
  {
   "cell_type": "code",
   "execution_count": 20,
   "id": "cc9fd916",
   "metadata": {},
   "outputs": [
    {
     "data": {
      "text/html": [
       "<div>\n",
       "<style scoped>\n",
       "    .dataframe tbody tr th:only-of-type {\n",
       "        vertical-align: middle;\n",
       "    }\n",
       "\n",
       "    .dataframe tbody tr th {\n",
       "        vertical-align: top;\n",
       "    }\n",
       "\n",
       "    .dataframe thead th {\n",
       "        text-align: right;\n",
       "    }\n",
       "</style>\n",
       "<table border=\"1\" class=\"dataframe\">\n",
       "  <thead>\n",
       "    <tr style=\"text-align: right;\">\n",
       "      <th></th>\n",
       "      <th>Gender</th>\n",
       "      <th>Height</th>\n",
       "      <th>Weight</th>\n",
       "      <th>Index</th>\n",
       "    </tr>\n",
       "  </thead>\n",
       "  <tbody>\n",
       "    <tr>\n",
       "      <th>0</th>\n",
       "      <td>1</td>\n",
       "      <td>174</td>\n",
       "      <td>96</td>\n",
       "      <td>4</td>\n",
       "    </tr>\n",
       "    <tr>\n",
       "      <th>1</th>\n",
       "      <td>1</td>\n",
       "      <td>189</td>\n",
       "      <td>87</td>\n",
       "      <td>2</td>\n",
       "    </tr>\n",
       "    <tr>\n",
       "      <th>2</th>\n",
       "      <td>0</td>\n",
       "      <td>185</td>\n",
       "      <td>110</td>\n",
       "      <td>4</td>\n",
       "    </tr>\n",
       "    <tr>\n",
       "      <th>3</th>\n",
       "      <td>0</td>\n",
       "      <td>195</td>\n",
       "      <td>104</td>\n",
       "      <td>3</td>\n",
       "    </tr>\n",
       "    <tr>\n",
       "      <th>4</th>\n",
       "      <td>1</td>\n",
       "      <td>149</td>\n",
       "      <td>61</td>\n",
       "      <td>3</td>\n",
       "    </tr>\n",
       "    <tr>\n",
       "      <th>...</th>\n",
       "      <td>...</td>\n",
       "      <td>...</td>\n",
       "      <td>...</td>\n",
       "      <td>...</td>\n",
       "    </tr>\n",
       "    <tr>\n",
       "      <th>495</th>\n",
       "      <td>0</td>\n",
       "      <td>150</td>\n",
       "      <td>153</td>\n",
       "      <td>5</td>\n",
       "    </tr>\n",
       "    <tr>\n",
       "      <th>496</th>\n",
       "      <td>0</td>\n",
       "      <td>184</td>\n",
       "      <td>121</td>\n",
       "      <td>4</td>\n",
       "    </tr>\n",
       "    <tr>\n",
       "      <th>497</th>\n",
       "      <td>0</td>\n",
       "      <td>141</td>\n",
       "      <td>136</td>\n",
       "      <td>5</td>\n",
       "    </tr>\n",
       "    <tr>\n",
       "      <th>498</th>\n",
       "      <td>1</td>\n",
       "      <td>150</td>\n",
       "      <td>95</td>\n",
       "      <td>5</td>\n",
       "    </tr>\n",
       "    <tr>\n",
       "      <th>499</th>\n",
       "      <td>1</td>\n",
       "      <td>173</td>\n",
       "      <td>131</td>\n",
       "      <td>5</td>\n",
       "    </tr>\n",
       "  </tbody>\n",
       "</table>\n",
       "<p>500 rows × 4 columns</p>\n",
       "</div>"
      ],
      "text/plain": [
       "     Gender  Height  Weight  Index\n",
       "0         1     174      96      4\n",
       "1         1     189      87      2\n",
       "2         0     185     110      4\n",
       "3         0     195     104      3\n",
       "4         1     149      61      3\n",
       "..      ...     ...     ...    ...\n",
       "495       0     150     153      5\n",
       "496       0     184     121      4\n",
       "497       0     141     136      5\n",
       "498       1     150      95      5\n",
       "499       1     173     131      5\n",
       "\n",
       "[500 rows x 4 columns]"
      ]
     },
     "execution_count": 20,
     "metadata": {},
     "output_type": "execute_result"
    }
   ],
   "source": [
    "bmi_data"
   ]
  },
  {
   "cell_type": "code",
   "execution_count": 21,
   "id": "07392ceb",
   "metadata": {},
   "outputs": [
    {
     "data": {
      "text/plain": [
       "<seaborn.axisgrid.PairGrid at 0x1a498805dc0>"
      ]
     },
     "execution_count": 21,
     "metadata": {},
     "output_type": "execute_result"
    },
    {
     "data": {
      "image/png": "[encoded data removed]",
      "text/plain": [
       "<Figure size 720x720 with 20 Axes>"
      ]
     },
     "metadata": {
      "needs_background": "light"
     },
     "output_type": "display_data"
    }
   ],
   "source": [
    "sns.pairplot(bmi_data)"
   ]
  },
  {
   "cell_type": "code",
   "execution_count": 22,
   "id": "bc6d21c6",
   "metadata": {},
   "outputs": [
    {
     "data": {
      "text/plain": [
       "Text(0.5, 1.0, 'BMI Correlation Heatmap')"
      ]
     },
     "execution_count": 22,
     "metadata": {},
     "output_type": "execute_result"
    },
    {
     "data": {
      "image/png": "[encoded data removed]",
      "text/plain": [
       "<Figure size 432x432 with 2 Axes>"
      ]
     },
     "metadata": {
      "needs_background": "light"
     },
     "output_type": "display_data"
    }
   ],
   "source": [
    "plt.figure(figsize = (6, 6))\n",
    "heatmap = sns.heatmap(bmi_data.corr(), vmin = -1, vmax = 1, annot = True)\n",
    "heatmap.set_title('BMI Correlation Heatmap', fontdict = {'fontsize' : 18}, pad = 12)"
   ]
  },
  {
   "cell_type": "code",
   "execution_count": 23,
   "id": "0a97adc6",
   "metadata": {},
   "outputs": [
    {
     "data": {
      "image/png": "[encoded data removed]",
      "text/plain": [
       "<Figure size 432x288 with 1 Axes>"
      ]
     },
     "metadata": {
      "needs_background": "light"
     },
     "output_type": "display_data"
    }
   ],
   "source": [
    "sns.histplot(data= bmi_data, x=\"Gender\", hue=\"Gender\")\n",
    "plt.show()"
   ]
  },
  {
   "cell_type": "code",
   "execution_count": 24,
   "id": "e0bcc9c4",
   "metadata": {},
   "outputs": [
    {
     "data": {
      "text/plain": [
       "<AxesSubplot:>"
      ]
     },
     "execution_count": 24,
     "metadata": {},
     "output_type": "execute_result"
    },
    {
     "data": {
      "image/png": "[encoded data removed]",
      "text/plain": [
       "<Figure size 432x288 with 1 Axes>"
      ]
     },
     "metadata": {
      "needs_background": "light"
     },
     "output_type": "display_data"
    }
   ],
   "source": [
    "bmi_data.boxplot(\"Index\")"
   ]
  },
  {
   "cell_type": "code",
   "execution_count": 25,
   "id": "62845802",
   "metadata": {},
   "outputs": [],
   "source": [
    "x = bmi_data.iloc[:,:-1].values"
   ]
  },
  {
   "cell_type": "code",
   "execution_count": 26,
   "id": "ce4c257a",
   "metadata": {},
   "outputs": [
    {
     "data": {
      "text/plain": [
       "array([[  1, 174,  96],\n",
       "       [  1, 189,  87],\n",
       "       [  0, 185, 110],\n",
       "       ...,\n",
       "       [  0, 141, 136],\n",
       "       [  1, 150,  95],\n",
       "       [  1, 173, 131]], dtype=int64)"
      ]
     },
     "execution_count": 26,
     "metadata": {},
     "output_type": "execute_result"
    }
   ],
   "source": [
    "x"
   ]
  },
  {
   "cell_type": "code",
   "execution_count": 27,
   "id": "08f6af58",
   "metadata": {},
   "outputs": [],
   "source": [
    "y = bmi_data.iloc[:,3].values"
   ]
  },
  {
   "cell_type": "code",
   "execution_count": 28,
   "id": "c70f09c1",
   "metadata": {},
   "outputs": [
    {
     "data": {
      "text/plain": [
       "array([4, 2, 4, 3, 3, 3, 5, 5, 3, 4, 2, 4, 3, 2, 2, 5, 5, 5, 5, 5, 5, 5,\n",
       "       4, 5, 2, 3, 3, 1, 5, 5, 5, 1, 1, 5, 5, 4, 3, 4, 5, 2, 4, 5, 2, 5,\n",
       "       4, 2, 4, 4, 3, 5, 5, 1, 5, 4, 4, 3, 4, 5, 3, 5, 0, 5, 0, 2, 5, 5,\n",
       "       4, 2, 4, 4, 2, 4, 5, 2, 3, 4, 4, 4, 4, 0, 3, 5, 3, 4, 5, 0, 5, 5,\n",
       "       5, 5, 5, 3, 3, 2, 4, 5, 4, 5, 1, 0, 4, 5, 5, 4, 4, 4, 5, 5, 4, 3,\n",
       "       4, 5, 4, 2, 4, 3, 2, 5, 5, 5, 4, 4, 4, 5, 5, 4, 4, 4, 5, 2, 5, 2,\n",
       "       5, 4, 5, 5, 5, 3, 5, 5, 2, 4, 5, 5, 5, 4, 3, 5, 3, 3, 0, 3, 3, 5,\n",
       "       5, 4, 3, 5, 3, 4, 2, 2, 3, 5, 4, 2, 4, 5, 3, 2, 4, 5, 5, 4, 4, 4,\n",
       "       4, 3, 5, 3, 3, 4, 4, 2, 3, 3, 5, 3, 5, 4, 5, 5, 4, 5, 5, 5, 4, 4,\n",
       "       5, 5, 1, 3, 4, 4, 5, 4, 5, 4, 3, 4, 4, 5, 5, 5, 0, 5, 5, 5, 5, 5,\n",
       "       2, 5, 4, 5, 0, 5, 3, 4, 5, 5, 4, 2, 3, 3, 4, 3, 5, 5, 2, 5, 3, 2,\n",
       "       1, 5, 0, 5, 3, 5, 3, 4, 3, 5, 5, 5, 5, 2, 4, 5, 5, 4, 5, 5, 5, 2,\n",
       "       4, 5, 5, 5, 5, 1, 5, 5, 4, 0, 3, 3, 4, 2, 3, 1, 1, 5, 5, 4, 4, 4,\n",
       "       4, 5, 2, 5, 4, 3, 3, 4, 5, 5, 2, 4, 3, 4, 5, 4, 2, 4, 5, 4, 5, 5,\n",
       "       1, 5, 5, 5, 5, 2, 2, 5, 3, 5, 4, 5, 4, 4, 5, 5, 4, 2, 2, 4, 3, 3,\n",
       "       5, 4, 2, 2, 2, 2, 5, 5, 4, 5, 3, 4, 4, 3, 4, 4, 2, 2, 5, 2, 2, 2,\n",
       "       2, 5, 0, 3, 4, 5, 1, 4, 1, 4, 5, 4, 5, 5, 3, 4, 5, 4, 3, 5, 1, 2,\n",
       "       4, 5, 5, 5, 5, 3, 5, 1, 4, 5, 5, 2, 5, 4, 3, 2, 2, 2, 2, 3, 5, 3,\n",
       "       3, 5, 3, 5, 3, 4, 2, 4, 4, 5, 2, 5, 5, 5, 1, 4, 5, 5, 5, 4, 5, 2,\n",
       "       5, 2, 1, 5, 5, 4, 1, 1, 4, 4, 4, 4, 2, 5, 5, 4, 2, 5, 5, 5, 1, 5,\n",
       "       4, 2, 5, 5, 4, 5, 4, 4, 5, 5, 5, 4, 5, 0, 2, 2, 4, 2, 4, 5, 4, 5,\n",
       "       1, 5, 2, 5, 3, 5, 5, 3, 5, 5, 2, 5, 3, 4, 5, 2, 2, 5, 5, 4, 5, 4,\n",
       "       4, 4, 5, 2, 4, 5, 2, 5, 0, 1, 5, 5, 4, 5, 5, 5], dtype=int64)"
      ]
     },
     "execution_count": 28,
     "metadata": {},
     "output_type": "execute_result"
    }
   ],
   "source": [
    "y"
   ]
  },
  {
   "cell_type": "code",
   "execution_count": 29,
   "id": "7c4059d4",
   "metadata": {},
   "outputs": [],
   "source": [
    "from sklearn.model_selection import train_test_split\n",
    "X_train,X_test,Y_train,Y_test = train_test_split(x,y,test_size=0.20, random_state=0)"
   ]
  },
  {
   "cell_type": "code",
   "execution_count": 30,
   "id": "405f95e1",
   "metadata": {},
   "outputs": [
    {
     "name": "stdout",
     "output_type": "stream",
     "text": [
      "(400, 3)\n",
      "(100, 3)\n",
      "(400,)\n",
      "(100,)\n"
     ]
    }
   ],
   "source": [
    "print(X_train.shape)\n",
    "print(X_test.shape)\n",
    "print(Y_train.shape)\n",
    "print(Y_test.shape)"
   ]
  },
  {
   "cell_type": "code",
   "execution_count": 31,
   "id": "e2f4d4a1",
   "metadata": {},
   "outputs": [
    {
     "data": {
      "text/plain": [
       "array([[  1, 159, 154],\n",
       "       [  0, 167, 153],\n",
       "       [  1, 178, 117],\n",
       "       ...,\n",
       "       [  0, 146, 104],\n",
       "       [  1, 181, 111],\n",
       "       [  1, 167, 151]], dtype=int64)"
      ]
     },
     "execution_count": 31,
     "metadata": {},
     "output_type": "execute_result"
    }
   ],
   "source": [
    "X_train"
   ]
  },
  {
   "cell_type": "code",
   "execution_count": 32,
   "id": "a3f96a50",
   "metadata": {},
   "outputs": [
    {
     "data": {
      "text/plain": [
       "array([[  0, 178, 154],\n",
       "       [  1, 183, 147],\n",
       "       [  1, 166, 107],\n",
       "       [  1, 159, 140],\n",
       "       [  1, 152, 132],\n",
       "       [  0, 153, 107],\n",
       "       [  1, 188,  99],\n",
       "       [  0, 179, 150],\n",
       "       [  1, 181, 105],\n",
       "       [  0, 168, 140],\n",
       "       [  1, 166,  61],\n",
       "       [  1, 153,  70],\n",
       "       [  0, 167,  58],\n",
       "       [  1, 149, 100],\n",
       "       [  1, 174, 138],\n",
       "       [  0, 185, 102],\n",
       "       [  1, 161, 115],\n",
       "       [  1, 174,  90],\n",
       "       [  0, 155, 111],\n",
       "       [  1, 144,  80],\n",
       "       [  0, 150,  87],\n",
       "       [  0, 185,  94],\n",
       "       [  1, 178,  85],\n",
       "       [  0, 181, 106],\n",
       "       [  1, 185,  76],\n",
       "       [  1, 188,  65],\n",
       "       [  0, 153, 149],\n",
       "       [  0, 186, 127],\n",
       "       [  1, 142,  69],\n",
       "       [  0, 177,  81],\n",
       "       [  0, 153,  77],\n",
       "       [  1, 144, 108],\n",
       "       [  0, 158, 149],\n",
       "       [  1, 154, 100],\n",
       "       [  1, 174,  95],\n",
       "       [  0, 198,  50],\n",
       "       [  0, 180, 156],\n",
       "       [  0, 172,  90],\n",
       "       [  1, 184, 153],\n",
       "       [  0, 174,  65],\n",
       "       [  1, 153, 104],\n",
       "       [  0, 188, 122],\n",
       "       [  1, 169, 110],\n",
       "       [  1, 183, 138],\n",
       "       [  1, 165, 104],\n",
       "       [  1, 189,  87],\n",
       "       [  0, 196, 159],\n",
       "       [  0, 148,  54],\n",
       "       [  1, 162, 130],\n",
       "       [  1, 161, 155],\n",
       "       [  0, 195, 147],\n",
       "       [  1, 187, 136],\n",
       "       [  1, 179,  83],\n",
       "       [  1, 140,  79],\n",
       "       [  0, 158, 153],\n",
       "       [  0, 192, 101],\n",
       "       [  0, 167,  85],\n",
       "       [  0, 196, 131],\n",
       "       [  1, 188,  54],\n",
       "       [  0, 154,  92],\n",
       "       [  0, 176, 122],\n",
       "       [  0, 179, 114],\n",
       "       [  0, 160,  83],\n",
       "       [  0, 180,  59],\n",
       "       [  1, 182, 108],\n",
       "       [  1, 157,  74],\n",
       "       [  1, 195,  81],\n",
       "       [  1, 198, 109],\n",
       "       [  1, 152, 103],\n",
       "       [  0, 197, 154],\n",
       "       [  1, 180, 149],\n",
       "       [  0, 179, 158],\n",
       "       [  0, 155,  71],\n",
       "       [  0, 188, 115],\n",
       "       [  0, 185, 119],\n",
       "       [  0, 151, 158],\n",
       "       [  1, 147,  84],\n",
       "       [  1, 199, 156],\n",
       "       [  0, 146, 147],\n",
       "       [  1, 160, 156],\n",
       "       [  0, 186, 140],\n",
       "       [  1, 170,  81],\n",
       "       [  1, 183, 131],\n",
       "       [  1, 159, 109],\n",
       "       [  0, 164, 160],\n",
       "       [  0, 199,  92],\n",
       "       [  1, 140, 146],\n",
       "       [  1, 168, 160],\n",
       "       [  1, 178, 138],\n",
       "       [  1, 196, 116],\n",
       "       [  0, 173,  82],\n",
       "       [  1, 182,  70],\n",
       "       [  1, 176,  87],\n",
       "       [  1, 184,  57],\n",
       "       [  1, 188, 100],\n",
       "       [  1, 185,  60],\n",
       "       [  1, 172,  92],\n",
       "       [  0, 172, 116],\n",
       "       [  0, 191,  54],\n",
       "       [  1, 191,  96]], dtype=int64)"
      ]
     },
     "execution_count": 32,
     "metadata": {},
     "output_type": "execute_result"
    }
   ],
   "source": [
    "X_test"
   ]
  },
  {
   "cell_type": "code",
   "execution_count": 33,
   "id": "4cb4d65b",
   "metadata": {},
   "outputs": [],
   "source": [
    "from sklearn.preprocessing import StandardScaler\n",
    "scaler = StandardScaler()\n",
    "X_train = scaler.fit_transform(X_train)\n",
    "X_test = scaler.transform(X_test)"
   ]
  },
  {
   "cell_type": "code",
   "execution_count": 34,
   "id": "dcf1c208",
   "metadata": {},
   "outputs": [
    {
     "data": {
      "text/plain": [
       "array([[ 1.05131497, -0.63012682,  1.49496019],\n",
       "       [-0.95118973, -0.14165642,  1.46416643],\n",
       "       [ 1.05131497,  0.52999039,  0.35559097],\n",
       "       ...,\n",
       "       [-0.95118973, -1.42389123, -0.04472794],\n",
       "       [ 1.05131497,  0.71316679,  0.1708284 ],\n",
       "       [ 1.05131497, -0.14165642,  1.40257891]])"
      ]
     },
     "execution_count": 34,
     "metadata": {},
     "output_type": "execute_result"
    }
   ],
   "source": [
    "X_train"
   ]
  },
  {
   "cell_type": "code",
   "execution_count": 35,
   "id": "d4331d72",
   "metadata": {},
   "outputs": [
    {
     "data": {
      "text/plain": [
       "array([[-0.95118973,  0.52999039,  1.49496019],\n",
       "       [ 1.05131497,  0.83528439,  1.27940385],\n",
       "       [ 1.05131497, -0.20271522,  0.04765335],\n",
       "       [ 1.05131497, -0.63012682,  1.06384752],\n",
       "       [ 1.05131497, -1.05753842,  0.81749741],\n",
       "       [-0.95118973, -0.99647962,  0.04765335],\n",
       "       [ 1.05131497,  1.14057839, -0.19869675],\n",
       "       [-0.95118973,  0.59104919,  1.37178514],\n",
       "       [ 1.05131497,  0.71316679, -0.01393418],\n",
       "       [-0.95118973, -0.08059762,  1.06384752],\n",
       "       [ 1.05131497, -0.20271522, -1.36885974],\n",
       "       [ 1.05131497, -0.99647962, -1.09171587],\n",
       "       [-0.95118973, -0.14165642, -1.46124102],\n",
       "       [ 1.05131497, -1.24071483, -0.16790299],\n",
       "       [ 1.05131497,  0.28575519,  1.00225999],\n",
       "       [-0.95118973,  0.95740199, -0.10631547],\n",
       "       [ 1.05131497, -0.50800922,  0.29400345],\n",
       "       [ 1.05131497,  0.28575519, -0.47584062],\n",
       "       [-0.95118973, -0.87436202,  0.1708284 ],\n",
       "       [ 1.05131497, -1.54600883, -0.78377824],\n",
       "       [-0.95118973, -1.17965603, -0.56822191],\n",
       "       [-0.95118973,  0.95740199, -0.35266557],\n",
       "       [ 1.05131497,  0.52999039, -0.62980943],\n",
       "       [-0.95118973,  0.71316679,  0.01685959],\n",
       "       [ 1.05131497,  0.95740199, -0.9069533 ],\n",
       "       [ 1.05131497,  1.14057839, -1.24568468],\n",
       "       [-0.95118973, -0.99647962,  1.34099138],\n",
       "       [-0.95118973,  1.01846079,  0.6635286 ],\n",
       "       [ 1.05131497, -1.66812643, -1.12250963],\n",
       "       [-0.95118973,  0.46893159, -0.75298448],\n",
       "       [-0.95118973, -0.99647962, -0.87615953],\n",
       "       [ 1.05131497, -1.54600883,  0.07844711],\n",
       "       [-0.95118973, -0.69118562,  1.34099138],\n",
       "       [ 1.05131497, -0.93542082, -0.16790299],\n",
       "       [ 1.05131497,  0.28575519, -0.3218718 ],\n",
       "       [-0.95118973,  1.7511664 , -1.70759112],\n",
       "       [-0.95118973,  0.65210799,  1.55654772],\n",
       "       [-0.95118973,  0.16363759, -0.47584062],\n",
       "       [ 1.05131497,  0.89634319,  1.46416643],\n",
       "       [-0.95118973,  0.28575519, -1.24568468],\n",
       "       [ 1.05131497, -0.99647962, -0.04472794],\n",
       "       [-0.95118973,  1.14057839,  0.50955979],\n",
       "       [ 1.05131497, -0.01953882,  0.14003464],\n",
       "       [ 1.05131497,  0.83528439,  1.00225999],\n",
       "       [ 1.05131497, -0.26377402, -0.04472794],\n",
       "       [ 1.05131497,  1.20163719, -0.56822191],\n",
       "       [-0.95118973,  1.6290488 ,  1.64892901],\n",
       "       [-0.95118973, -1.30177363, -1.58441607],\n",
       "       [ 1.05131497, -0.44695042,  0.75590989],\n",
       "       [ 1.05131497, -0.50800922,  1.52575396],\n",
       "       [-0.95118973,  1.56799   ,  1.27940385],\n",
       "       [ 1.05131497,  1.07951959,  0.94067247],\n",
       "       [ 1.05131497,  0.59104919, -0.69139696],\n",
       "       [ 1.05131497, -1.79024403, -0.81457201],\n",
       "       [-0.95118973, -0.69118562,  1.46416643],\n",
       "       [-0.95118973,  1.38481359, -0.13710923],\n",
       "       [-0.95118973, -0.14165642, -0.62980943],\n",
       "       [-0.95118973,  1.6290488 ,  0.78670365],\n",
       "       [ 1.05131497,  1.14057839, -1.58441607],\n",
       "       [-0.95118973, -0.93542082, -0.41425309],\n",
       "       [-0.95118973,  0.40787279,  0.50955979],\n",
       "       [-0.95118973,  0.59104919,  0.26320969],\n",
       "       [-0.95118973, -0.56906802, -0.69139696],\n",
       "       [-0.95118973,  0.65210799, -1.43044726],\n",
       "       [ 1.05131497,  0.77422559,  0.07844711],\n",
       "       [ 1.05131497, -0.75224442, -0.96854082],\n",
       "       [ 1.05131497,  1.56799   , -0.75298448],\n",
       "       [ 1.05131497,  1.7511664 ,  0.10924087],\n",
       "       [ 1.05131497, -1.05753842, -0.0755217 ],\n",
       "       [-0.95118973,  1.6901076 ,  1.49496019],\n",
       "       [ 1.05131497,  0.65210799,  1.34099138],\n",
       "       [-0.95118973,  0.59104919,  1.61813524],\n",
       "       [-0.95118973, -0.87436202, -1.06092211],\n",
       "       [-0.95118973,  1.14057839,  0.29400345],\n",
       "       [-0.95118973,  0.95740199,  0.4171785 ],\n",
       "       [-0.95118973, -1.11859722,  1.61813524],\n",
       "       [ 1.05131497, -1.36283243, -0.66060319],\n",
       "       [ 1.05131497,  1.8122252 ,  1.55654772],\n",
       "       [-0.95118973, -1.42389123,  1.27940385],\n",
       "       [ 1.05131497, -0.56906802,  1.55654772],\n",
       "       [-0.95118973,  1.01846079,  1.06384752],\n",
       "       [ 1.05131497,  0.04151998, -0.75298448],\n",
       "       [ 1.05131497,  0.83528439,  0.78670365],\n",
       "       [ 1.05131497, -0.63012682,  0.10924087],\n",
       "       [-0.95118973, -0.32483282,  1.67972277],\n",
       "       [-0.95118973,  1.8122252 , -0.41425309],\n",
       "       [ 1.05131497, -1.79024403,  1.24861009],\n",
       "       [ 1.05131497, -0.08059762,  1.67972277],\n",
       "       [ 1.05131497,  0.52999039,  1.00225999],\n",
       "       [ 1.05131497,  1.6290488 ,  0.32479721],\n",
       "       [-0.95118973,  0.22469639, -0.72219072],\n",
       "       [ 1.05131497,  0.77422559, -1.09171587],\n",
       "       [ 1.05131497,  0.40787279, -0.56822191],\n",
       "       [ 1.05131497,  0.89634319, -1.49203479],\n",
       "       [ 1.05131497,  1.14057839, -0.16790299],\n",
       "       [ 1.05131497,  0.95740199, -1.3996535 ],\n",
       "       [ 1.05131497,  0.16363759, -0.41425309],\n",
       "       [-0.95118973,  0.16363759,  0.32479721],\n",
       "       [-0.95118973,  1.32375479, -1.58441607],\n",
       "       [ 1.05131497,  1.32375479, -0.29107804]])"
      ]
     },
     "execution_count": 35,
     "metadata": {},
     "output_type": "execute_result"
    }
   ],
   "source": [
    "X_test"
   ]
  },
  {
   "cell_type": "markdown",
   "id": "21014ee8",
   "metadata": {},
   "source": [
    "# LogisticRegression"
   ]
  },
  {
   "cell_type": "code",
   "execution_count": 36,
   "id": "0aba7b0d",
   "metadata": {},
   "outputs": [
    {
     "data": {
      "text/plain": [
       "LogisticRegression(random_state=0)"
      ]
     },
     "execution_count": 36,
     "metadata": {},
     "output_type": "execute_result"
    }
   ],
   "source": [
    "from sklearn.linear_model import LogisticRegression\n",
    "classifier = LogisticRegression(random_state = 0)\n",
    "classifier.fit(X_train, Y_train)"
   ]
  },
  {
   "cell_type": "code",
   "execution_count": 37,
   "id": "3721d570",
   "metadata": {},
   "outputs": [],
   "source": [
    "y_pred = classifier.predict(X_test)"
   ]
  },
  {
   "cell_type": "code",
   "execution_count": 38,
   "id": "9a11f1e4",
   "metadata": {},
   "outputs": [
    {
     "data": {
      "text/plain": [
       "array([5, 5, 4, 5, 5, 5, 3, 5, 4, 5, 2, 4, 2, 5, 5, 4, 5, 4, 5, 5, 4, 3,\n",
       "       3, 4, 2, 2, 5, 4, 4, 2, 4, 5, 5, 5, 4, 1, 5, 4, 5, 2, 5, 4, 4, 5,\n",
       "       4, 3, 5, 2, 5, 5, 4, 4, 3, 5, 5, 3, 4, 4, 1, 4, 4, 4, 4, 2, 4, 4,\n",
       "       2, 3, 5, 4, 5, 5, 4, 4, 4, 5, 5, 4, 5, 5, 4, 3, 4, 5, 5, 2, 5, 5,\n",
       "       5, 4, 3, 2, 3, 1, 3, 2, 4, 4, 2, 3], dtype=int64)"
      ]
     },
     "execution_count": 38,
     "metadata": {},
     "output_type": "execute_result"
    }
   ],
   "source": [
    "y_pred\n"
   ]
  },
  {
   "cell_type": "code",
   "execution_count": 39,
   "id": "22dbb53f",
   "metadata": {},
   "outputs": [
    {
     "name": "stdout",
     "output_type": "stream",
     "text": [
      "classification report               precision    recall  f1-score   support\n",
      "\n",
      "           0       0.00      0.00      0.00         3\n",
      "           1       0.33      0.25      0.29         4\n",
      "           2       0.62      0.80      0.70        10\n",
      "           3       0.83      0.67      0.74        15\n",
      "           4       0.86      0.94      0.90        32\n",
      "           5       0.95      0.97      0.96        36\n",
      "\n",
      "    accuracy                           0.84       100\n",
      "   macro avg       0.60      0.60      0.60       100\n",
      "weighted avg       0.81      0.84      0.82       100\n",
      "\n"
     ]
    },
    {
     "name": "stderr",
     "output_type": "stream",
     "text": [
      "C:\\Users\\rahul\\anaconda3\\lib\\site-packages\\sklearn\\metrics\\_classification.py:1318: UndefinedMetricWarning: Precision and F-score are ill-defined and being set to 0.0 in labels with no predicted samples. Use `zero_division` parameter to control this behavior.\n",
      "  _warn_prf(average, modifier, msg_start, len(result))\n",
      "C:\\Users\\rahul\\anaconda3\\lib\\site-packages\\sklearn\\metrics\\_classification.py:1318: UndefinedMetricWarning: Precision and F-score are ill-defined and being set to 0.0 in labels with no predicted samples. Use `zero_division` parameter to control this behavior.\n",
      "  _warn_prf(average, modifier, msg_start, len(result))\n",
      "C:\\Users\\rahul\\anaconda3\\lib\\site-packages\\sklearn\\metrics\\_classification.py:1318: UndefinedMetricWarning: Precision and F-score are ill-defined and being set to 0.0 in labels with no predicted samples. Use `zero_division` parameter to control this behavior.\n",
      "  _warn_prf(average, modifier, msg_start, len(result))\n"
     ]
    }
   ],
   "source": [
    "from sklearn.metrics import classification_report,confusion_matrix\n",
    "print('classification report',classification_report(Y_test,y_pred))"
   ]
  },
  {
   "cell_type": "markdown",
   "id": "d2946025",
   "metadata": {},
   "source": [
    "# DecisionTreeClassifier"
   ]
  },
  {
   "cell_type": "code",
   "execution_count": 40,
   "id": "5be6eea2",
   "metadata": {},
   "outputs": [
    {
     "data": {
      "text/plain": [
       "DecisionTreeClassifier(criterion='entropy', random_state=0)"
      ]
     },
     "execution_count": 40,
     "metadata": {},
     "output_type": "execute_result"
    }
   ],
   "source": [
    "from sklearn.tree import DecisionTreeClassifier  \n",
    "classifier= DecisionTreeClassifier(criterion='entropy', random_state=0)  \n",
    "classifier.fit(X_train, Y_train)  "
   ]
  },
  {
   "cell_type": "code",
   "execution_count": 41,
   "id": "e10b246c",
   "metadata": {},
   "outputs": [],
   "source": [
    "y_pred = classifier.predict(X_test)"
   ]
  },
  {
   "cell_type": "code",
   "execution_count": 42,
   "id": "5f1df57b",
   "metadata": {},
   "outputs": [
    {
     "name": "stdout",
     "output_type": "stream",
     "text": [
      "classification report               precision    recall  f1-score   support\n",
      "\n",
      "           0       1.00      1.00      1.00         3\n",
      "           1       1.00      0.50      0.67         4\n",
      "           2       0.69      0.90      0.78        10\n",
      "           3       0.75      0.80      0.77        15\n",
      "           4       0.82      0.72      0.77        32\n",
      "           5       0.87      0.92      0.89        36\n",
      "\n",
      "    accuracy                           0.82       100\n",
      "   macro avg       0.86      0.81      0.81       100\n",
      "weighted avg       0.83      0.82      0.82       100\n",
      "\n"
     ]
    }
   ],
   "source": [
    "from sklearn.metrics import classification_report,confusion_matrix\n",
    "print('classification report',classification_report(Y_test,y_pred))"
   ]
  },
  {
   "cell_type": "markdown",
   "id": "4e9fc155",
   "metadata": {},
   "source": [
    "# RandomForestClassifier"
   ]
  },
  {
   "cell_type": "code",
   "execution_count": 43,
   "id": "7c406d56",
   "metadata": {},
   "outputs": [
    {
     "data": {
      "text/plain": [
       "RandomForestClassifier(criterion='entropy', n_estimators=200, random_state=0)"
      ]
     },
     "execution_count": 43,
     "metadata": {},
     "output_type": "execute_result"
    }
   ],
   "source": [
    "from sklearn.ensemble import RandomForestClassifier\n",
    "classifier = RandomForestClassifier(n_estimators=200, criterion='entropy', random_state=0)\n",
    "classifier.fit(X_train, Y_train)\n"
   ]
  },
  {
   "cell_type": "code",
   "execution_count": 44,
   "id": "fb168dc0",
   "metadata": {},
   "outputs": [],
   "source": [
    "y_pred = classifier.predict(X_test)"
   ]
  },
  {
   "cell_type": "code",
   "execution_count": 45,
   "id": "8e182b89",
   "metadata": {},
   "outputs": [
    {
     "name": "stdout",
     "output_type": "stream",
     "text": [
      "classification report               precision    recall  f1-score   support\n",
      "\n",
      "           0       1.00      0.67      0.80         3\n",
      "           1       0.75      0.75      0.75         4\n",
      "           2       0.75      0.90      0.82        10\n",
      "           3       0.92      0.80      0.86        15\n",
      "           4       0.91      0.91      0.91        32\n",
      "           5       0.95      0.97      0.96        36\n",
      "\n",
      "    accuracy                           0.90       100\n",
      "   macro avg       0.88      0.83      0.85       100\n",
      "weighted avg       0.90      0.90      0.90       100\n",
      "\n"
     ]
    }
   ],
   "source": [
    "from sklearn.metrics import classification_report,confusion_matrix\n",
    "print('classification report',classification_report(Y_test,y_pred))"
   ]
  },
  {
   "cell_type": "markdown",
   "id": "a4c65d20",
   "metadata": {},
   "source": [
    "# KNN(K-Nearest Neighbors)"
   ]
  },
  {
   "cell_type": "code",
   "execution_count": 46,
   "id": "f779b668",
   "metadata": {},
   "outputs": [
    {
     "data": {
      "text/plain": [
       "KNeighborsClassifier()"
      ]
     },
     "execution_count": 46,
     "metadata": {},
     "output_type": "execute_result"
    }
   ],
   "source": [
    "from sklearn.neighbors import KNeighborsClassifier\n",
    "classifier = KNeighborsClassifier(n_neighbors=5)\n",
    "classifier.fit(X_train,Y_train)"
   ]
  },
  {
   "cell_type": "code",
   "execution_count": 47,
   "id": "dfd3a341",
   "metadata": {},
   "outputs": [],
   "source": [
    "y_pred = classifier.predict(X_test)"
   ]
  },
  {
   "cell_type": "code",
   "execution_count": 48,
   "id": "fc567082",
   "metadata": {},
   "outputs": [
    {
     "name": "stdout",
     "output_type": "stream",
     "text": [
      "classification report               precision    recall  f1-score   support\n",
      "\n",
      "           0       0.50      0.33      0.40         3\n",
      "           1       0.50      0.50      0.50         4\n",
      "           2       0.75      0.90      0.82        10\n",
      "           3       0.92      0.80      0.86        15\n",
      "           4       0.94      0.94      0.94        32\n",
      "           5       0.95      0.97      0.96        36\n",
      "\n",
      "    accuracy                           0.89       100\n",
      "   macro avg       0.76      0.74      0.75       100\n",
      "weighted avg       0.89      0.89      0.89       100\n",
      "\n"
     ]
    }
   ],
   "source": [
    "from sklearn.metrics import classification_report,confusion_matrix\n",
    "print('classification report',classification_report(Y_test,y_pred))"
   ]
  },
  {
   "cell_type": "code",
   "execution_count": 49,
   "id": "06948928",
   "metadata": {},
   "outputs": [
    {
     "name": "stdout",
     "output_type": "stream",
     "text": [
      "confusion_matrix [[ 1  2  0  0  0  0]\n",
      " [ 1  2  1  0  0  0]\n",
      " [ 0  0  9  1  0  0]\n",
      " [ 0  0  2 12  1  0]\n",
      " [ 0  0  0  0 30  2]\n",
      " [ 0  0  0  0  1 35]]\n"
     ]
    }
   ],
   "source": [
    "print('confusion_matrix',confusion_matrix(Y_test,y_pred))"
   ]
  },
  {
   "cell_type": "code",
   "execution_count": 50,
   "id": "6fbca595",
   "metadata": {},
   "outputs": [],
   "source": [
    "cm = confusion_matrix(Y_test,y_pred)"
   ]
  },
  {
   "cell_type": "code",
   "execution_count": 51,
   "id": "0a5bc6a6",
   "metadata": {},
   "outputs": [
    {
     "data": {
      "text/plain": [
       "array([[ 1,  2,  0,  0,  0,  0],\n",
       "       [ 1,  2,  1,  0,  0,  0],\n",
       "       [ 0,  0,  9,  1,  0,  0],\n",
       "       [ 0,  0,  2, 12,  1,  0],\n",
       "       [ 0,  0,  0,  0, 30,  2],\n",
       "       [ 0,  0,  0,  0,  1, 35]], dtype=int64)"
      ]
     },
     "execution_count": 51,
     "metadata": {},
     "output_type": "execute_result"
    }
   ],
   "source": [
    "cm"
   ]
  },
  {
   "cell_type": "code",
   "execution_count": 52,
   "id": "3d9684f4",
   "metadata": {},
   "outputs": [],
   "source": [
    "final_data= pd.DataFrame(data=cm, index=['Extremely Weak','Weak','Normal','Overweight','Obesity','Extreme Obesity'],\\\n",
    "                         columns=['Extremely Weak','Weak','Normal','Overweight','Obesity','Extreme Obesity'])"
   ]
  },
  {
   "cell_type": "code",
   "execution_count": 53,
   "id": "d318b3b7",
   "metadata": {},
   "outputs": [
    {
     "data": {
      "text/html": [
       "<div>\n",
       "<style scoped>\n",
       "    .dataframe tbody tr th:only-of-type {\n",
       "        vertical-align: middle;\n",
       "    }\n",
       "\n",
       "    .dataframe tbody tr th {\n",
       "        vertical-align: top;\n",
       "    }\n",
       "\n",
       "    .dataframe thead th {\n",
       "        text-align: right;\n",
       "    }\n",
       "</style>\n",
       "<table border=\"1\" class=\"dataframe\">\n",
       "  <thead>\n",
       "    <tr style=\"text-align: right;\">\n",
       "      <th></th>\n",
       "      <th>Extremely Weak</th>\n",
       "      <th>Weak</th>\n",
       "      <th>Normal</th>\n",
       "      <th>Overweight</th>\n",
       "      <th>Obesity</th>\n",
       "      <th>Extreme Obesity</th>\n",
       "    </tr>\n",
       "  </thead>\n",
       "  <tbody>\n",
       "    <tr>\n",
       "      <th>Extremely Weak</th>\n",
       "      <td>1</td>\n",
       "      <td>2</td>\n",
       "      <td>0</td>\n",
       "      <td>0</td>\n",
       "      <td>0</td>\n",
       "      <td>0</td>\n",
       "    </tr>\n",
       "    <tr>\n",
       "      <th>Weak</th>\n",
       "      <td>1</td>\n",
       "      <td>2</td>\n",
       "      <td>1</td>\n",
       "      <td>0</td>\n",
       "      <td>0</td>\n",
       "      <td>0</td>\n",
       "    </tr>\n",
       "    <tr>\n",
       "      <th>Normal</th>\n",
       "      <td>0</td>\n",
       "      <td>0</td>\n",
       "      <td>9</td>\n",
       "      <td>1</td>\n",
       "      <td>0</td>\n",
       "      <td>0</td>\n",
       "    </tr>\n",
       "    <tr>\n",
       "      <th>Overweight</th>\n",
       "      <td>0</td>\n",
       "      <td>0</td>\n",
       "      <td>2</td>\n",
       "      <td>12</td>\n",
       "      <td>1</td>\n",
       "      <td>0</td>\n",
       "    </tr>\n",
       "    <tr>\n",
       "      <th>Obesity</th>\n",
       "      <td>0</td>\n",
       "      <td>0</td>\n",
       "      <td>0</td>\n",
       "      <td>0</td>\n",
       "      <td>30</td>\n",
       "      <td>2</td>\n",
       "    </tr>\n",
       "    <tr>\n",
       "      <th>Extreme Obesity</th>\n",
       "      <td>0</td>\n",
       "      <td>0</td>\n",
       "      <td>0</td>\n",
       "      <td>0</td>\n",
       "      <td>1</td>\n",
       "      <td>35</td>\n",
       "    </tr>\n",
       "  </tbody>\n",
       "</table>\n",
       "</div>"
      ],
      "text/plain": [
       "                 Extremely Weak  Weak  Normal  Overweight  Obesity  \\\n",
       "Extremely Weak                1     2       0           0        0   \n",
       "Weak                          1     2       1           0        0   \n",
       "Normal                        0     0       9           1        0   \n",
       "Overweight                    0     0       2          12        1   \n",
       "Obesity                       0     0       0           0       30   \n",
       "Extreme Obesity               0     0       0           0        1   \n",
       "\n",
       "                 Extreme Obesity  \n",
       "Extremely Weak                 0  \n",
       "Weak                           0  \n",
       "Normal                         0  \n",
       "Overweight                     0  \n",
       "Obesity                        2  \n",
       "Extreme Obesity               35  "
      ]
     },
     "execution_count": 53,
     "metadata": {},
     "output_type": "execute_result"
    }
   ],
   "source": [
    "final_data"
   ]
  },
  {
   "cell_type": "code",
   "execution_count": null,
   "id": "69f5261d",
   "metadata": {},
   "outputs": [],
   "source": []
  }
 ],
 "metadata": {
  "kernelspec": {
   "display_name": "Python 3 (ipykernel)",
   "language": "python",
   "name": "python3"
  },
  "language_info": {
   "codemirror_mode": {
    "name": "ipython",
    "version": 3
   },
   "file_extension": ".py",
   "mimetype": "text/x-python",
   "name": "python",
   "nbconvert_exporter": "python",
   "pygments_lexer": "ipython3",
   "version": "3.9.12"
  }
 },
 "nbformat": 4,
 "nbformat_minor": 5
}
